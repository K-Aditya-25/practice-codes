{
 "cells": [
  {
   "cell_type": "code",
   "execution_count": null,
   "metadata": {
    "collapsed": false
   },
   "outputs": [],
   "source": [
    "# For tips on running notebooks in Google Colab, see\n",
    "# https://pytorch.org/tutorials/beginner/colab̵̵̵̵̵̵\n",
    "%matplotlib inline"
   ]
  },
  {
   "cell_type": "markdown",
   "metadata": {},
   "source": [
    "Tensors\n",
    "=======\n",
    "\n",
    "Tensors are a specialized data structure that are very similar to arrays\n",
    "and matrices. In PyTorch, we use tensors to encode the inputs and\n",
    "outputs of a model, as well as the model's parameters.\n",
    "\n",
    "Tensors are similar to NumPy's ndarrays, except that tensors can run on\n",
    "GPUs or other specialized hardware to accelerate computing. If you're\n",
    "familiar with ndarrays, you'll be right at home with the Tensor API. If\n",
    "not, follow along in this quick API walkthrough.\n"
   ]
  },
  {
   "cell_type": "code",
   "execution_count": 1,
   "metadata": {
    "collapsed": false
   },
   "outputs": [],
   "source": [
    "# TODO: Import torch and numpy\n",
    "import torch\n",
    "import numpy as np"
   ]
  },
  {
   "cell_type": "markdown",
   "metadata": {},
   "source": [
    "Tensor Initialization\n",
    "=====================\n",
    "\n",
    "Tensors can be initialized in various ways. Take a look at the following\n",
    "examples:\n",
    "\n",
    "**Directly from data**\n",
    "\n",
    "Tensors can be created directly from data. The data type is\n",
    "automatically inferred.\n"
   ]
  },
  {
   "cell_type": "code",
   "execution_count": 2,
   "metadata": {
    "collapsed": false
   },
   "outputs": [],
   "source": [
    "data = [[1, 2], [3, 4]]\n",
    "# TODO: Create a tensor from data\n",
    "tensor = torch.tensor(data)"
   ]
  },
  {
   "cell_type": "markdown",
   "metadata": {},
   "source": [
    "**From a NumPy array**\n",
    "\n",
    "Tensors can be created from NumPy arrays (and vice versa - see\n",
    "`bridge-to-np-label`{.interpreted-text role=\"ref\"}).\n"
   ]
  },
  {
   "cell_type": "code",
   "execution_count": 3,
   "metadata": {
    "collapsed": false
   },
   "outputs": [
    {
     "data": {
      "text/plain": [
       "tensor([[1, 2],\n",
       "        [3, 4]])"
      ]
     },
     "execution_count": 3,
     "metadata": {},
     "output_type": "execute_result"
    }
   ],
   "source": [
    "np_array = np.array(data)\n",
    "# TODO: Convert NumPy array to tensor\n",
    "numpy_tensor = torch.from_numpy(np_array)\n",
    "numpy_tensor"
   ]
  },
  {
   "cell_type": "markdown",
   "metadata": {},
   "source": [
    "**From another tensor:**\n",
    "\n",
    "The new tensor retains the properties (shape, datatype) of the argument\n",
    "tensor, unless explicitly overridden.\n"
   ]
  },
  {
   "cell_type": "code",
   "execution_count": 7,
   "metadata": {
    "collapsed": false
   },
   "outputs": [
    {
     "name": "stdout",
     "output_type": "stream",
     "text": [
      "Ones Tensor:\n",
      " tensor([[1., 1., 1.],\n",
      "        [1., 1., 1.],\n",
      "        [1., 1., 1.]])\n",
      "Random Tensor:\n",
      " tensor([[0.1511, 0.7365, 0.8594],\n",
      "        [0.6502, 0.5240, 0.8609],\n",
      "        [0.9318, 0.5680, 0.4217]])\n"
     ]
    }
   ],
   "source": [
    "# TODO: Create a tensor of ones and a random tensor, then print them\n",
    "ones_tensor = torch.ones(3,3)\n",
    "rand_tensor = torch.rand_like(ones_tensor)\n",
    "print(\"Ones Tensor:\\n\", ones_tensor)\n",
    "print(\"Random Tensor:\\n\", rand_tensor)"
   ]
  },
  {
   "cell_type": "markdown",
   "metadata": {},
   "source": [
    "**With random or constant values:**\n",
    "\n",
    "`shape` is a tuple of tensor dimensions. In the functions below, it\n",
    "determines the dimensionality of the output tensor.\n"
   ]
  },
  {
   "cell_type": "code",
   "execution_count": 8,
   "metadata": {
    "collapsed": false
   },
   "outputs": [
    {
     "name": "stdout",
     "output_type": "stream",
     "text": [
      "Random Tensor:\n",
      " tensor([[0.6719, 0.3149, 0.9208, 0.7539, 0.3285],\n",
      "        [0.6464, 0.8352, 0.5798, 0.3099, 0.1312],\n",
      "        [0.0522, 0.4350, 0.4792, 0.1262, 0.8809],\n",
      "        [0.1831, 0.7290, 0.6440, 0.5944, 0.4425],\n",
      "        [0.0789, 0.0175, 0.0413, 0.9912, 0.8059]])\n",
      "Ones Tensor:\n",
      " tensor([[1., 1., 1., 1., 1.],\n",
      "        [1., 1., 1., 1., 1.],\n",
      "        [1., 1., 1., 1., 1.],\n",
      "        [1., 1., 1., 1., 1.],\n",
      "        [1., 1., 1., 1., 1.]])\n",
      "Zeros Tensor:\n",
      " tensor([[0., 0., 0., 0., 0.],\n",
      "        [0., 0., 0., 0., 0.],\n",
      "        [0., 0., 0., 0., 0.],\n",
      "        [0., 0., 0., 0., 0.],\n",
      "        [0., 0., 0., 0., 0.]])\n"
     ]
    }
   ],
   "source": [
    "# TODO: Initialize random, ones, and zeros tensors and print them\n",
    "shape = (5,5)\n",
    "t1 = torch.rand(shape)\n",
    "t2 = torch.ones(shape)\n",
    "t3 = torch.zeros(shape)\n",
    "print(\"Random Tensor:\\n\", t1)\n",
    "print(\"Ones Tensor:\\n\", t2)\n",
    "print(\"Zeros Tensor:\\n\", t3)"
   ]
  },
  {
   "cell_type": "markdown",
   "metadata": {},
   "source": [
    "------------------------------------------------------------------------\n"
   ]
  },
  {
   "cell_type": "markdown",
   "metadata": {},
   "source": [
    "Tensor Attributes\n",
    "=================\n",
    "\n",
    "Tensor attributes describe their shape, datatype, and the device on\n",
    "which they are stored.\n"
   ]
  },
  {
   "cell_type": "code",
   "execution_count": 9,
   "metadata": {
    "collapsed": false
   },
   "outputs": [
    {
     "name": "stdout",
     "output_type": "stream",
     "text": [
      "Shape: torch.Size([4, 5])\n",
      "Device: cpu\n",
      "Dtype: torch.float32\n"
     ]
    }
   ],
   "source": [
    "# TODO: Create a random tensor and print its shape, dtype, and device\n",
    "tensor = torch.rand(4,5)\n",
    "print(f\"Shape: {tensor.shape}\")\n",
    "print(f\"Device: {tensor.device}\")\n",
    "print(f\"Dtype: {tensor.dtype}\")"
   ]
  },
  {
   "cell_type": "markdown",
   "metadata": {},
   "source": [
    "------------------------------------------------------------------------\n"
   ]
  },
  {
   "cell_type": "markdown",
   "metadata": {},
   "source": [
    "Tensor Operations\n",
    "=================\n",
    "\n",
    "Over 100 tensor operations, including transposing, indexing, slicing,\n",
    "mathematical operations, linear algebra, random sampling, and more are\n",
    "comprehensively described\n",
    "[here](https://pytorch.org/docs/stable/torch.html).\n",
    "\n",
    "Each of them can be run on the GPU (at typically higher speeds than on a\n",
    "CPU). If you're using Colab, allocate a GPU by going to Edit \\> Notebook\n",
    "Settings.\n"
   ]
  },
  {
   "cell_type": "code",
   "execution_count": 10,
   "metadata": {
    "collapsed": false
   },
   "outputs": [
    {
     "name": "stdout",
     "output_type": "stream",
     "text": [
      "Device: mps:0\n"
     ]
    }
   ],
   "source": [
    "# TODO: Move tensor to GPU if available and print device\n",
    "if torch.backends.mps.is_available():\n",
    "  tensor = tensor.to('mps')\n",
    "print(f\"Device: {tensor.device}\")"
   ]
  },
  {
   "cell_type": "markdown",
   "metadata": {},
   "source": [
    "Try out some of the operations from the list. If you\\'re familiar with\n",
    "the NumPy API, you\\'ll find the Tensor API a breeze to use.\n"
   ]
  },
  {
   "cell_type": "markdown",
   "metadata": {},
   "source": [
    "**Standard numpy-like indexing and slicing:**\n"
   ]
  },
  {
   "cell_type": "code",
   "execution_count": 11,
   "metadata": {
    "collapsed": false
   },
   "outputs": [
    {
     "name": "stdout",
     "output_type": "stream",
     "text": [
      "tensor([[1., 0., 1., 1.],\n",
      "        [1., 0., 1., 1.],\n",
      "        [1., 0., 1., 1.],\n",
      "        [1., 0., 1., 1.]])\n"
     ]
    }
   ],
   "source": [
    "# TODO: Set all elements in the second column of a tensor to zero and print the tensor\n",
    "tensor = torch.ones(4, 4)\n",
    "tensor[:,1] = 0\n",
    "print(tensor)"
   ]
  },
  {
   "cell_type": "markdown",
   "metadata": {},
   "source": [
    "**Joining tensors** You can use `torch.cat` to concatenate a sequence of\n",
    "tensors along a given dimension. See also\n",
    "[torch.stack](https://pytorch.org/docs/stable/generated/torch.stack.html),\n",
    "another tensor joining op that is subtly different from `torch.cat`.\n"
   ]
  },
  {
   "cell_type": "code",
   "execution_count": 14,
   "metadata": {
    "collapsed": false
   },
   "outputs": [
    {
     "name": "stdout",
     "output_type": "stream",
     "text": [
      "t1:\n",
      " tensor([[0.1465, 0.6663, 0.3043],\n",
      "        [0.2788, 0.5930, 0.7618]])\n",
      "t2:\n",
      " tensor([[0.6402, 0.1609, 0.7743],\n",
      "        [0.2349, 0.7186, 0.6843]])\n",
      "Concatenated t3:\n",
      " tensor([[0.1465, 0.6663, 0.3043, 0.6402, 0.1609, 0.7743],\n",
      "        [0.2788, 0.5930, 0.7618, 0.2349, 0.7186, 0.6843]])\n"
     ]
    }
   ],
   "source": [
    "# TODO: Concatenate tensors along dimension 1 and print the result\n",
    "t1 = torch.rand(2,3)\n",
    "t2 = torch.rand(2,3)\n",
    "t3 = torch.cat([t1, t2], dim=1)\n",
    "print(\"t1:\\n\", t1)\n",
    "print(\"t2:\\n\", t2)\n",
    "print(\"Concatenated t3:\\n\", t3)"
   ]
  },
  {
   "cell_type": "markdown",
   "metadata": {},
   "source": [
    "**Multiplying tensors**\n"
   ]
  },
  {
   "cell_type": "code",
   "execution_count": 18,
   "metadata": {
    "collapsed": false
   },
   "outputs": [
    {
     "data": {
      "text/plain": [
       "tensor([[0.0938, 0.1072, 0.2356],\n",
       "        [0.0655, 0.4261, 0.5213]])"
      ]
     },
     "execution_count": 18,
     "metadata": {},
     "output_type": "execute_result"
    }
   ],
   "source": [
    "# TODO: Compute and print the element-wise product of a tensor\n",
    "product_tensor = t1 * t2\n",
    "product_tensor"
   ]
  },
  {
   "cell_type": "markdown",
   "metadata": {},
   "source": [
    "This computes the matrix multiplication between two tensors\n"
   ]
  },
  {
   "cell_type": "code",
   "execution_count": 19,
   "metadata": {
    "collapsed": false
   },
   "outputs": [
    {
     "data": {
      "text/plain": [
       "tensor([[0.4366, 0.7215],\n",
       "        [0.8638, 1.0129]])"
      ]
     },
     "execution_count": 19,
     "metadata": {},
     "output_type": "execute_result"
    }
   ],
   "source": [
    "# TODO: Compute and print the matrix multiplication of a tensor and its transpose\n",
    "matrix_mul_tensor = t1 @ t2.T\n",
    "matrix_mul_tensor"
   ]
  },
  {
   "cell_type": "markdown",
   "metadata": {},
   "source": [
    "**In-place operations** Operations that have a `_` suffix are in-place.\n",
    "For example: `x.copy_(y)`, `x.t_()`, will change `x`.\n"
   ]
  },
  {
   "cell_type": "code",
   "execution_count": 20,
   "metadata": {
    "collapsed": false
   },
   "outputs": [
    {
     "name": "stdout",
     "output_type": "stream",
     "text": [
      "tensor([[1., 0., 1., 1.],\n",
      "        [1., 0., 1., 1.],\n",
      "        [1., 0., 1., 1.],\n",
      "        [1., 0., 1., 1.]]) \n",
      "\n",
      "tensor([[6., 5., 6., 6.],\n",
      "        [6., 5., 6., 6.],\n",
      "        [6., 5., 6., 6.],\n",
      "        [6., 5., 6., 6.]])\n"
     ]
    }
   ],
   "source": [
    "print(tensor, \"\\n\")\n",
    "# TODO: Add 5 to all elements of a tensor in-place and print the tensor\n",
    "tensor.add_(5)\n",
    "print(tensor)"
   ]
  },
  {
   "cell_type": "markdown",
   "metadata": {},
   "source": [
    "<div style=\"background-color: #54c7ce; color: #fff; font-weight: 700; padding-left: 10px; padding-top: 5px; padding-bottom: 5px\"><strong>NOTE:</strong></div>\n",
    "\n",
    "<div style=\"background-color: #f3f4f1; padding-left: 10px; padding-top: 10px; padding-bottom: 10px; padding-right: 10px\">\n",
    "\n",
    "<p>In-place operations save some memory, but can be problematic when computing derivatives because of an immediate lossof history. Hence, their use is discouraged.</p>\n",
    "\n",
    "</div>\n",
    "\n"
   ]
  },
  {
   "cell_type": "markdown",
   "metadata": {},
   "source": [
    "------------------------------------------------------------------------\n"
   ]
  },
  {
   "cell_type": "markdown",
   "metadata": {},
   "source": [
    "Bridge with NumPy {#bridge-to-np-label}\n",
    "=================\n",
    "\n",
    "Tensors on the CPU and NumPy arrays can share their underlying memory\n",
    "locations, and changing one will change the other.\n"
   ]
  },
  {
   "cell_type": "markdown",
   "metadata": {},
   "source": [
    "Tensor to NumPy array\n",
    "=====================\n"
   ]
  },
  {
   "cell_type": "code",
   "execution_count": 21,
   "metadata": {
    "collapsed": false
   },
   "outputs": [
    {
     "name": "stdout",
     "output_type": "stream",
     "text": [
      "tensor([[6., 5., 6., 6.],\n",
      "        [6., 5., 6., 6.],\n",
      "        [6., 5., 6., 6.],\n",
      "        [6., 5., 6., 6.]])\n",
      "[[6. 5. 6. 6.]\n",
      " [6. 5. 6. 6.]\n",
      " [6. 5. 6. 6.]\n",
      " [6. 5. 6. 6.]]\n"
     ]
    }
   ],
   "source": [
    "# TODO: Convert a tensor to a NumPy array and print both\n",
    "nd_array = tensor.numpy()\n",
    "print(f\"{tensor}\\n{nd_array}\")"
   ]
  },
  {
   "cell_type": "markdown",
   "metadata": {},
   "source": [
    "A change in the tensor reflects in the NumPy array.\n"
   ]
  },
  {
   "cell_type": "code",
   "execution_count": 22,
   "metadata": {
    "collapsed": false
   },
   "outputs": [
    {
     "name": "stdout",
     "output_type": "stream",
     "text": [
      "tensor([[7., 6., 7., 7.],\n",
      "        [7., 6., 7., 7.],\n",
      "        [7., 6., 7., 7.],\n",
      "        [7., 6., 7., 7.]])\n",
      "[[7. 6. 7. 7.]\n",
      " [7. 6. 7. 7.]\n",
      " [7. 6. 7. 7.]\n",
      " [7. 6. 7. 7.]]\n"
     ]
    }
   ],
   "source": [
    "# TODO: Add 1 to the tensor in-place and print both the tensor and NumPy array\n",
    "tensor.add_(1)\n",
    "print(f\"{tensor}\\n{nd_array}\")"
   ]
  },
  {
   "cell_type": "markdown",
   "metadata": {},
   "source": [
    "NumPy array to Tensor\n",
    "=====================\n"
   ]
  },
  {
   "cell_type": "code",
   "execution_count": 27,
   "metadata": {
    "collapsed": false
   },
   "outputs": [
    {
     "name": "stdout",
     "output_type": "stream",
     "text": [
      "[[0.05280939 0.48600064 0.63536734]\n",
      " [0.91071668 0.89819015 0.74681082]]\n",
      "tensor([[0.0528, 0.4860, 0.6354],\n",
      "        [0.9107, 0.8982, 0.7468]], dtype=torch.float64)\n"
     ]
    }
   ],
   "source": [
    "# TODO: Create a NumPy array and convert it to a tensor\n",
    "rand_array = np.random.rand(2,3)\n",
    "rand_tensor = torch.from_numpy(rand_array)\n",
    "print(rand_array)\n",
    "print(rand_tensor)"
   ]
  },
  {
   "cell_type": "markdown",
   "metadata": {},
   "source": [
    "Changes in the NumPy array reflects in the tensor.\n"
   ]
  },
  {
   "cell_type": "code",
   "execution_count": 29,
   "metadata": {
    "collapsed": false
   },
   "outputs": [
    {
     "name": "stdout",
     "output_type": "stream",
     "text": [
      "tensor([[1.0528, 1.4860, 1.6354],\n",
      "        [1.9107, 1.8982, 1.7468]], dtype=torch.float64)\n",
      "[[1.05280939 1.48600064 1.63536734]\n",
      " [1.91071668 1.89819015 1.74681082]]\n"
     ]
    }
   ],
   "source": [
    "# TODO: Add 1 to the NumPy array in-place and print both the tensor and NumPy array\n",
    "rand_array += 1\n",
    "print(rand_tensor)\n",
    "print(rand_array)"
   ]
  },
  {
   "cell_type": "code",
   "execution_count": null,
   "metadata": {},
   "outputs": [],
   "source": []
  }
 ],
 "metadata": {
  "kernelspec": {
   "display_name": ".venv",
   "language": "python",
   "name": "python3"
  },
  "language_info": {
   "codemirror_mode": {
    "name": "ipython",
    "version": 3
   },
   "file_extension": ".py",
   "mimetype": "text/x-python",
   "name": "python",
   "nbconvert_exporter": "python",
   "pygments_lexer": "ipython3",
   "version": "3.13.0"
  }
 },
 "nbformat": 4,
 "nbformat_minor": 0
}
